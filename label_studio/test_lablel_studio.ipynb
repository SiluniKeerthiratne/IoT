{
 "cells": [
  {
   "cell_type": "code",
   "execution_count": 10,
   "metadata": {},
   "outputs": [],
   "source": [
    "# Define the URL where Label Studio is accessible and the API key for your user account\n",
    "LABEL_STUDIO_URL = 'http://localhost:8080'\n",
    "# API key is available at the Account & Settings > Access Tokens page in Label Studio UI\n",
    "API_KEY = '46414fdd9e8c4a843bd027f61660b9bb08114c4e'\n",
    "\n",
    "# Import the SDK and the client module\n",
    "from label_studio_sdk.client import LabelStudio\n",
    "\n",
    "# Connect to the Label Studio API and check the connection\n",
    "ls = LabelStudio(base_url=LABEL_STUDIO_URL, api_key=API_KEY)\n"
   ]
  },
  {
   "cell_type": "code",
   "execution_count": null,
   "metadata": {},
   "outputs": [],
   "source": [
    "\n",
    "task = ls.tasks.create(\n",
    "    project=3,\n",
    "    data={\n",
    "        \"image\": \"gs://opg-test-1/car.jpg\",  # Corrected GCS URL format\n",
    "    }\n",
    ")\n"
   ]
  },
  {
   "cell_type": "code",
   "execution_count": 29,
   "metadata": {},
   "outputs": [],
   "source": [
    "from label_studio_sdk import Client\n",
    "import time\n",
    "\n",
    "# Connect to Label Studio\n",
    "ls = Client(url=\"http://localhost:8080\", api_key=API_KEY)\n",
    "project = ls.get_project(3)\n",
    "\n",
    "# Create export snapshot\n",
    "export_result = project.export_snapshot_create(\n",
    "    title=\"YOLO Export\",\n",
    "    task_filter_options={\n",
    "        'view': 1,\n",
    "        'finished': 'only',\n",
    "        'annotated': 'only'\n",
    "    }\n",
    ")\n",
    "\n",
    "# Wait for export completion\n",
    "while project.export_snapshot_status(export_result[\"id\"]).is_in_progress():\n",
    "    time.sleep(1.0)\n",
    "\n",
    "# Download with YOLO format (images included by default)\n",
    "status, filename = project.export_snapshot_download(\n",
    "    export_result[\"id\"],\n",
    "    export_type=\"YOLO\",\n",
    "    path=\"./exports\"\n",
    ")\n"
   ]
  },
  {
   "cell_type": "code",
   "execution_count": 5,
   "metadata": {},
   "outputs": [],
   "source": [
    "from label_studio_sdk import LabelStudio\n",
    "client = LabelStudio(\n",
    "    api_key=API_KEY)"
   ]
  },
  {
   "cell_type": "code",
   "execution_count": null,
   "metadata": {},
   "outputs": [],
   "source": [
    "from label_studio_sdk.label_interface import LabelInterface\n",
    "from label_studio_sdk.label_interface.create import choices\n",
    "\n",
    "# Define labeling interface\n",
    "label_config = LabelInterface.create({\n",
    "    'text': 'Text',\n",
    "    'label': choices(['Positive', 'Negative'])\n",
    "})\n",
    "\n",
    "# Create a project with the specified title and labeling configuration\n",
    "project = ls.projects.create(\n",
    "    title='Text Classification',\n",
    "    label_config=label_config\n",
    ")\n"
   ]
  },
  {
   "cell_type": "code",
   "execution_count": 8,
   "metadata": {},
   "outputs": [
    {
     "ename": "AttributeError",
     "evalue": "type object 'LabelInterface' has no attribute 'rectangle_labels'",
     "output_type": "error",
     "traceback": [
      "\u001b[31m---------------------------------------------------------------------------\u001b[39m",
      "\u001b[31mAttributeError\u001b[39m                            Traceback (most recent call last)",
      "\u001b[36mCell\u001b[39m\u001b[36m \u001b[39m\u001b[32mIn[8]\u001b[39m\u001b[32m, line 6\u001b[39m\n\u001b[32m      1\u001b[39m \u001b[38;5;28;01mfrom\u001b[39;00m\u001b[38;5;250m \u001b[39m\u001b[34;01mlabel_studio_sdk\u001b[39;00m\u001b[34;01m.\u001b[39;00m\u001b[34;01mlabel_interface\u001b[39;00m\u001b[38;5;250m \u001b[39m\u001b[38;5;28;01mimport\u001b[39;00m LabelInterface\n\u001b[32m      2\u001b[39m project = ls.projects.create(\n\u001b[32m      3\u001b[39m     title=\u001b[33m\"\u001b[39m\u001b[33mObject Detection Project\u001b[39m\u001b[33m\"\u001b[39m,\n\u001b[32m      4\u001b[39m     label_config=LabelInterface.create({\n\u001b[32m      5\u001b[39m         \u001b[33m\"\u001b[39m\u001b[33mimage\u001b[39m\u001b[33m\"\u001b[39m: \u001b[33m\"\u001b[39m\u001b[33mImage\u001b[39m\u001b[33m\"\u001b[39m,\n\u001b[32m----> \u001b[39m\u001b[32m6\u001b[39m         \u001b[33m\"\u001b[39m\u001b[33mbbox\u001b[39m\u001b[33m\"\u001b[39m: \u001b[43mLabelInterface\u001b[49m\u001b[43m.\u001b[49m\u001b[43mrectangle_labels\u001b[49m(\n\u001b[32m      7\u001b[39m             name=\u001b[33m\"\u001b[39m\u001b[33mbbox\u001b[39m\u001b[33m\"\u001b[39m,\n\u001b[32m      8\u001b[39m             toName=\u001b[33m\"\u001b[39m\u001b[33mimage\u001b[39m\u001b[33m\"\u001b[39m,\n\u001b[32m      9\u001b[39m             labels=[\u001b[33m\"\u001b[39m\u001b[33mCar\u001b[39m\u001b[33m\"\u001b[39m, \u001b[33m\"\u001b[39m\u001b[33mPedestrian\u001b[39m\u001b[33m\"\u001b[39m, \u001b[33m\"\u001b[39m\u001b[33mTraffic Light\u001b[39m\u001b[33m\"\u001b[39m]\n\u001b[32m     10\u001b[39m         )\n\u001b[32m     11\u001b[39m     })\n\u001b[32m     12\u001b[39m )\n",
      "\u001b[31mAttributeError\u001b[39m: type object 'LabelInterface' has no attribute 'rectangle_labels'"
     ]
    }
   ],
   "source": [
    "from label_studio_sdk.label_interface import LabelInterface\n",
    "project = ls.projects.create(\n",
    "    title=\"Object Detection Project\",\n",
    "    label_config=LabelInterface.create({\n",
    "        \"image\": \"Image\",\n",
    "        \"bbox\": LabelInterface.rectangle_labels(\n",
    "            name=\"bbox\",\n",
    "            toName=\"image\",\n",
    "            labels=[\"Car\", \"Pedestrian\", \"Traffic Light\"]\n",
    "        )\n",
    "    })\n",
    ")\n"
   ]
  },
  {
   "cell_type": "code",
   "execution_count": 6,
   "metadata": {},
   "outputs": [
    {
     "data": {
      "text/plain": [
       "BaseTask(id=1, data={'image': 'car.jpg', 'text': 'Hello, world!'}, meta={}, created_at=datetime.datetime(2025, 3, 31, 7, 31, 26, 839631, tzinfo=TzInfo(UTC)), updated_at=datetime.datetime(2025, 3, 31, 7, 31, 26, 839681, tzinfo=TzInfo(UTC)), is_labeled=False, overlap=1, inner_id=2, total_annotations=0, cancelled_annotations=0, total_predictions=0, comment_count=0, unresolved_comment_count=0, last_comment_updated_at=None, project=1, updated_by=None, file_upload=None, comment_authors=[])"
      ]
     },
     "execution_count": 6,
     "metadata": {},
     "output_type": "execute_result"
    }
   ],
   "source": [
    "client.tasks.create(\n",
    "    data={\"image\": \"car.jpg\", \"text\": \"Hello, world!\"},\n",
    "    project=1,\n",
    ")"
   ]
  },
  {
   "cell_type": "code",
   "execution_count": 4,
   "metadata": {},
   "outputs": [
    {
     "ename": "AttributeError",
     "evalue": "'LabelStudio' object has no attribute 'upload_file'",
     "output_type": "error",
     "traceback": [
      "\u001b[31m---------------------------------------------------------------------------\u001b[39m",
      "\u001b[31mAttributeError\u001b[39m                            Traceback (most recent call last)",
      "\u001b[36mCell\u001b[39m\u001b[36m \u001b[39m\u001b[32mIn[4]\u001b[39m\u001b[32m, line 21\u001b[39m\n\u001b[32m     12\u001b[39m     \u001b[38;5;28;01mreturn\u001b[39;00m ls.tasks.create(\n\u001b[32m     13\u001b[39m         project=project_id,\n\u001b[32m     14\u001b[39m         data={\n\u001b[32m   (...)\u001b[39m\u001b[32m     17\u001b[39m         }\n\u001b[32m     18\u001b[39m     )\n\u001b[32m     20\u001b[39m \u001b[38;5;66;03m# Usage example\u001b[39;00m\n\u001b[32m---> \u001b[39m\u001b[32m21\u001b[39m task = \u001b[43mupload_image\u001b[49m\u001b[43m(\u001b[49m\u001b[32;43m1\u001b[39;49m\u001b[43m,\u001b[49m\u001b[43m \u001b[49m\u001b[33;43m\"\u001b[39;49m\u001b[33;43mcar.jpg\u001b[39;49m\u001b[33;43m\"\u001b[39;49m\u001b[43m)\u001b[49m\n",
      "\u001b[36mCell\u001b[39m\u001b[36m \u001b[39m\u001b[32mIn[4]\u001b[39m\u001b[32m, line 5\u001b[39m, in \u001b[36mupload_image\u001b[39m\u001b[34m(project_id, image_path)\u001b[39m\n\u001b[32m      2\u001b[39m \u001b[38;5;28;01mdef\u001b[39;00m\u001b[38;5;250m \u001b[39m\u001b[34mupload_image\u001b[39m(project_id, image_path):\n\u001b[32m      3\u001b[39m     \u001b[38;5;66;03m# Upload file first\u001b[39;00m\n\u001b[32m      4\u001b[39m     filename = image_path.split(\u001b[33m\"\u001b[39m\u001b[33m/\u001b[39m\u001b[33m\"\u001b[39m)[-\u001b[32m1\u001b[39m]\n\u001b[32m----> \u001b[39m\u001b[32m5\u001b[39m     \u001b[43mls\u001b[49m\u001b[43m.\u001b[49m\u001b[43mupload_file\u001b[49m(\n\u001b[32m      6\u001b[39m         project=project_id,\n\u001b[32m      7\u001b[39m         file=image_path,\n\u001b[32m      8\u001b[39m         filename=filename\n\u001b[32m      9\u001b[39m     )\n\u001b[32m     11\u001b[39m     \u001b[38;5;66;03m# Create task with uploaded image reference\u001b[39;00m\n\u001b[32m     12\u001b[39m     \u001b[38;5;28;01mreturn\u001b[39;00m ls.tasks.create(\n\u001b[32m     13\u001b[39m         project=project_id,\n\u001b[32m     14\u001b[39m         data={\n\u001b[32m   (...)\u001b[39m\u001b[32m     17\u001b[39m         }\n\u001b[32m     18\u001b[39m     )\n",
      "\u001b[31mAttributeError\u001b[39m: 'LabelStudio' object has no attribute 'upload_file'"
     ]
    }
   ],
   "source": [
    "# Upload image and create task\n",
    "def upload_image(project_id, image_path):\n",
    "    # Upload file first\n",
    "    filename = image_path.split(\"/\")[-1]\n",
    "    ls.upload_file(\n",
    "        project=project_id,\n",
    "        file=image_path,\n",
    "        filename=filename\n",
    "    )\n",
    "    \n",
    "    # Create task with uploaded image reference\n",
    "    return ls.tasks.create(\n",
    "        project=project_id,\n",
    "        data={\n",
    "            \"image\": f\"file://{filename}\",  # Reference uploaded file\n",
    "            \"meta\": {\"source\": \"local_upload\"}  # Optional metadata\n",
    "        }\n",
    "    )\n",
    "\n",
    "# Usage example\n",
    "task = upload_image(1, \"car.jpg\")"
   ]
  }
 ],
 "metadata": {
  "kernelspec": {
   "display_name": "myenvIot",
   "language": "python",
   "name": "python3"
  },
  "language_info": {
   "codemirror_mode": {
    "name": "ipython",
    "version": 3
   },
   "file_extension": ".py",
   "mimetype": "text/x-python",
   "name": "python",
   "nbconvert_exporter": "python",
   "pygments_lexer": "ipython3",
   "version": "3.11.5"
  }
 },
 "nbformat": 4,
 "nbformat_minor": 2
}
