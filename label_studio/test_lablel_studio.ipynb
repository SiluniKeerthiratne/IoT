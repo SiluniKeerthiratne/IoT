{
 "cells": [
  {
   "cell_type": "code",
   "execution_count": 16,
   "metadata": {},
   "outputs": [
    {
     "ename": "DefaultCredentialsError",
     "evalue": "Your default credentials were not found. To set up Application Default Credentials, see https://cloud.google.com/docs/authentication/external/set-up-adc for more information.",
     "output_type": "error",
     "traceback": [
      "\u001b[31m---------------------------------------------------------------------------\u001b[39m",
      "\u001b[31mDefaultCredentialsError\u001b[39m                   Traceback (most recent call last)",
      "\u001b[36mCell\u001b[39m\u001b[36m \u001b[39m\u001b[32mIn[16]\u001b[39m\u001b[32m, line 24\u001b[39m\n\u001b[32m     22\u001b[39m     \u001b[38;5;28mprint\u001b[39m(\u001b[33mf\u001b[39m\u001b[33m\"\u001b[39m\u001b[33mSet CORS policies for bucket \u001b[39m\u001b[38;5;132;01m{\u001b[39;00mbucket.name\u001b[38;5;132;01m}\u001b[39;00m\u001b[33m is \u001b[39m\u001b[38;5;132;01m{\u001b[39;00mbucket.cors\u001b[38;5;132;01m}\u001b[39;00m\u001b[33m\"\u001b[39m)\n\u001b[32m     23\u001b[39m     \u001b[38;5;28;01mreturn\u001b[39;00m bucket\n\u001b[32m---> \u001b[39m\u001b[32m24\u001b[39m \u001b[43mcors_configuration\u001b[49m\u001b[43m(\u001b[49m\u001b[33;43m\"\u001b[39;49m\u001b[33;43mopg-test-1\u001b[39;49m\u001b[33;43m\"\u001b[39;49m\u001b[43m)\u001b[49m\n",
      "\u001b[36mCell\u001b[39m\u001b[36m \u001b[39m\u001b[32mIn[16]\u001b[39m\u001b[32m, line 8\u001b[39m, in \u001b[36mcors_configuration\u001b[39m\u001b[34m(bucket_name)\u001b[39m\n\u001b[32m      5\u001b[39m \u001b[38;5;250m\u001b[39m\u001b[33;03m\"\"\"Set a bucket's CORS policies configuration.\"\"\"\u001b[39;00m\n\u001b[32m      6\u001b[39m \u001b[38;5;66;03m# bucket_name = \"your-bucket-name\"\u001b[39;00m\n\u001b[32m----> \u001b[39m\u001b[32m8\u001b[39m storage_client = \u001b[43mstorage\u001b[49m\u001b[43m.\u001b[49m\u001b[43mClient\u001b[49m\u001b[43m(\u001b[49m\u001b[43m)\u001b[49m\n\u001b[32m      9\u001b[39m bucket = storage_client.get_bucket(bucket_name)\n\u001b[32m     10\u001b[39m bucket.cors = [\n\u001b[32m     11\u001b[39m     {\n\u001b[32m     12\u001b[39m         \u001b[33m\"\u001b[39m\u001b[33morigin\u001b[39m\u001b[33m\"\u001b[39m: [\u001b[33m\"\u001b[39m\u001b[33m*\u001b[39m\u001b[33m\"\u001b[39m],\n\u001b[32m   (...)\u001b[39m\u001b[32m     18\u001b[39m     }\n\u001b[32m     19\u001b[39m ]\n",
      "\u001b[36mFile \u001b[39m\u001b[32m~/Documents/IoT/Code/myenvIot/lib/python3.11/site-packages/google/cloud/storage/client.py:228\u001b[39m, in \u001b[36mClient.__init__\u001b[39m\u001b[34m(self, project, credentials, _http, client_info, client_options, use_auth_w_custom_endpoint, extra_headers)\u001b[39m\n\u001b[32m    225\u001b[39m             no_project = \u001b[38;5;28;01mTrue\u001b[39;00m\n\u001b[32m    226\u001b[39m             project = \u001b[33m\"\u001b[39m\u001b[33m<none>\u001b[39m\u001b[33m\"\u001b[39m\n\u001b[32m--> \u001b[39m\u001b[32m228\u001b[39m \u001b[38;5;28;43msuper\u001b[39;49m\u001b[43m(\u001b[49m\u001b[43mClient\u001b[49m\u001b[43m,\u001b[49m\u001b[43m \u001b[49m\u001b[38;5;28;43mself\u001b[39;49m\u001b[43m)\u001b[49m\u001b[43m.\u001b[49m\u001b[34;43m__init__\u001b[39;49m\u001b[43m(\u001b[49m\n\u001b[32m    229\u001b[39m \u001b[43m    \u001b[49m\u001b[43mproject\u001b[49m\u001b[43m=\u001b[49m\u001b[43mproject\u001b[49m\u001b[43m,\u001b[49m\n\u001b[32m    230\u001b[39m \u001b[43m    \u001b[49m\u001b[43mcredentials\u001b[49m\u001b[43m=\u001b[49m\u001b[43mcredentials\u001b[49m\u001b[43m,\u001b[49m\n\u001b[32m    231\u001b[39m \u001b[43m    \u001b[49m\u001b[43mclient_options\u001b[49m\u001b[43m=\u001b[49m\u001b[43mclient_options\u001b[49m\u001b[43m,\u001b[49m\n\u001b[32m    232\u001b[39m \u001b[43m    \u001b[49m\u001b[43m_http\u001b[49m\u001b[43m=\u001b[49m\u001b[43m_http\u001b[49m\u001b[43m,\u001b[49m\n\u001b[32m    233\u001b[39m \u001b[43m\u001b[49m\u001b[43m)\u001b[49m\n\u001b[32m    235\u001b[39m \u001b[38;5;66;03m# Validate that the universe domain of the credentials matches the\u001b[39;00m\n\u001b[32m    236\u001b[39m \u001b[38;5;66;03m# universe domain of the client.\u001b[39;00m\n\u001b[32m    237\u001b[39m \u001b[38;5;28;01mif\u001b[39;00m \u001b[38;5;28mself\u001b[39m._credentials.universe_domain != \u001b[38;5;28mself\u001b[39m.universe_domain:\n",
      "\u001b[36mFile \u001b[39m\u001b[32m~/Documents/IoT/Code/myenvIot/lib/python3.11/site-packages/google/cloud/client/__init__.py:338\u001b[39m, in \u001b[36mClientWithProject.__init__\u001b[39m\u001b[34m(self, project, credentials, client_options, _http)\u001b[39m\n\u001b[32m    337\u001b[39m \u001b[38;5;28;01mdef\u001b[39;00m\u001b[38;5;250m \u001b[39m\u001b[34m__init__\u001b[39m(\u001b[38;5;28mself\u001b[39m, project=\u001b[38;5;28;01mNone\u001b[39;00m, credentials=\u001b[38;5;28;01mNone\u001b[39;00m, client_options=\u001b[38;5;28;01mNone\u001b[39;00m, _http=\u001b[38;5;28;01mNone\u001b[39;00m):\n\u001b[32m--> \u001b[39m\u001b[32m338\u001b[39m     \u001b[43m_ClientProjectMixin\u001b[49m\u001b[43m.\u001b[49m\u001b[34;43m__init__\u001b[39;49m\u001b[43m(\u001b[49m\u001b[38;5;28;43mself\u001b[39;49m\u001b[43m,\u001b[49m\u001b[43m \u001b[49m\u001b[43mproject\u001b[49m\u001b[43m=\u001b[49m\u001b[43mproject\u001b[49m\u001b[43m,\u001b[49m\u001b[43m \u001b[49m\u001b[43mcredentials\u001b[49m\u001b[43m=\u001b[49m\u001b[43mcredentials\u001b[49m\u001b[43m)\u001b[49m\n\u001b[32m    339\u001b[39m     Client.\u001b[34m__init__\u001b[39m(\n\u001b[32m    340\u001b[39m         \u001b[38;5;28mself\u001b[39m, credentials=credentials, client_options=client_options, _http=_http\n\u001b[32m    341\u001b[39m     )\n",
      "\u001b[36mFile \u001b[39m\u001b[32m~/Documents/IoT/Code/myenvIot/lib/python3.11/site-packages/google/cloud/client/__init__.py:286\u001b[39m, in \u001b[36m_ClientProjectMixin.__init__\u001b[39m\u001b[34m(self, project, credentials)\u001b[39m\n\u001b[32m    283\u001b[39m     project = \u001b[38;5;28mgetattr\u001b[39m(credentials, \u001b[33m\"\u001b[39m\u001b[33mproject_id\u001b[39m\u001b[33m\"\u001b[39m, \u001b[38;5;28;01mNone\u001b[39;00m)\n\u001b[32m    285\u001b[39m \u001b[38;5;28;01mif\u001b[39;00m project \u001b[38;5;129;01mis\u001b[39;00m \u001b[38;5;28;01mNone\u001b[39;00m:\n\u001b[32m--> \u001b[39m\u001b[32m286\u001b[39m     project = \u001b[38;5;28;43mself\u001b[39;49m\u001b[43m.\u001b[49m\u001b[43m_determine_default\u001b[49m\u001b[43m(\u001b[49m\u001b[43mproject\u001b[49m\u001b[43m)\u001b[49m\n\u001b[32m    288\u001b[39m \u001b[38;5;28;01mif\u001b[39;00m project \u001b[38;5;129;01mis\u001b[39;00m \u001b[38;5;28;01mNone\u001b[39;00m:\n\u001b[32m    289\u001b[39m     \u001b[38;5;28;01mraise\u001b[39;00m \u001b[38;5;167;01mEnvironmentError\u001b[39;00m(\n\u001b[32m    290\u001b[39m         \u001b[33m\"\u001b[39m\u001b[33mProject was not passed and could not be \u001b[39m\u001b[33m\"\u001b[39m\n\u001b[32m    291\u001b[39m         \u001b[33m\"\u001b[39m\u001b[33mdetermined from the environment.\u001b[39m\u001b[33m\"\u001b[39m\n\u001b[32m    292\u001b[39m     )\n",
      "\u001b[36mFile \u001b[39m\u001b[32m~/Documents/IoT/Code/myenvIot/lib/python3.11/site-packages/google/cloud/client/__init__.py:305\u001b[39m, in \u001b[36m_ClientProjectMixin._determine_default\u001b[39m\u001b[34m(project)\u001b[39m\n\u001b[32m    302\u001b[39m \u001b[38;5;129m@staticmethod\u001b[39m\n\u001b[32m    303\u001b[39m \u001b[38;5;28;01mdef\u001b[39;00m\u001b[38;5;250m \u001b[39m\u001b[34m_determine_default\u001b[39m(project):\n\u001b[32m    304\u001b[39m \u001b[38;5;250m    \u001b[39m\u001b[33;03m\"\"\"Helper:  use default project detection.\"\"\"\u001b[39;00m\n\u001b[32m--> \u001b[39m\u001b[32m305\u001b[39m     \u001b[38;5;28;01mreturn\u001b[39;00m \u001b[43m_determine_default_project\u001b[49m\u001b[43m(\u001b[49m\u001b[43mproject\u001b[49m\u001b[43m)\u001b[49m\n",
      "\u001b[36mFile \u001b[39m\u001b[32m~/Documents/IoT/Code/myenvIot/lib/python3.11/site-packages/google/cloud/_helpers/__init__.py:152\u001b[39m, in \u001b[36m_determine_default_project\u001b[39m\u001b[34m(project)\u001b[39m\n\u001b[32m    140\u001b[39m \u001b[38;5;250m\u001b[39m\u001b[33;03m\"\"\"Determine default project ID explicitly or implicitly as fall-back.\u001b[39;00m\n\u001b[32m    141\u001b[39m \n\u001b[32m    142\u001b[39m \u001b[33;03mSee :func:`google.auth.default` for details on how the default project\u001b[39;00m\n\u001b[32m   (...)\u001b[39m\u001b[32m    149\u001b[39m \u001b[33;03m:returns: Default project if it can be determined.\u001b[39;00m\n\u001b[32m    150\u001b[39m \u001b[33;03m\"\"\"\u001b[39;00m\n\u001b[32m    151\u001b[39m \u001b[38;5;28;01mif\u001b[39;00m project \u001b[38;5;129;01mis\u001b[39;00m \u001b[38;5;28;01mNone\u001b[39;00m:\n\u001b[32m--> \u001b[39m\u001b[32m152\u001b[39m     _, project = \u001b[43mgoogle\u001b[49m\u001b[43m.\u001b[49m\u001b[43mauth\u001b[49m\u001b[43m.\u001b[49m\u001b[43mdefault\u001b[49m\u001b[43m(\u001b[49m\u001b[43m)\u001b[49m\n\u001b[32m    153\u001b[39m \u001b[38;5;28;01mreturn\u001b[39;00m project\n",
      "\u001b[36mFile \u001b[39m\u001b[32m~/Documents/IoT/Code/myenvIot/lib/python3.11/site-packages/google/auth/_default.py:719\u001b[39m, in \u001b[36mdefault\u001b[39m\u001b[34m(scopes, request, quota_project_id, default_scopes)\u001b[39m\n\u001b[32m    711\u001b[39m             _LOGGER.warning(\n\u001b[32m    712\u001b[39m                 \u001b[33m\"\u001b[39m\u001b[33mNo project ID could be determined. Consider running \u001b[39m\u001b[33m\"\u001b[39m\n\u001b[32m    713\u001b[39m                 \u001b[33m\"\u001b[39m\u001b[33m`gcloud config set project` or setting the \u001b[39m\u001b[38;5;132;01m%s\u001b[39;00m\u001b[33m \u001b[39m\u001b[33m\"\u001b[39m\n\u001b[32m    714\u001b[39m                 \u001b[33m\"\u001b[39m\u001b[33menvironment variable\u001b[39m\u001b[33m\"\u001b[39m,\n\u001b[32m    715\u001b[39m                 environment_vars.PROJECT,\n\u001b[32m    716\u001b[39m             )\n\u001b[32m    717\u001b[39m         \u001b[38;5;28;01mreturn\u001b[39;00m credentials, effective_project_id\n\u001b[32m--> \u001b[39m\u001b[32m719\u001b[39m \u001b[38;5;28;01mraise\u001b[39;00m exceptions.DefaultCredentialsError(_CLOUD_SDK_MISSING_CREDENTIALS)\n",
      "\u001b[31mDefaultCredentialsError\u001b[39m: Your default credentials were not found. To set up Application Default Credentials, see https://cloud.google.com/docs/authentication/external/set-up-adc for more information."
     ]
    }
   ],
   "source": [
    "from google.cloud import storage\n",
    "\n",
    "\n",
    "def cors_configuration(bucket_name):\n",
    "    \"\"\"Set a bucket's CORS policies configuration.\"\"\"\n",
    "    # bucket_name = \"your-bucket-name\"\n",
    "\n",
    "    storage_client = storage.Client()\n",
    "    bucket = storage_client.get_bucket(bucket_name)\n",
    "    bucket.cors = [\n",
    "        {\n",
    "            \"origin\": [\"*\"],\n",
    "            \"responseHeader\": [\n",
    "                \"Content-Type\",\n",
    "                \"x-goog-resumable\"],\n",
    "            \"method\": ['PUT', 'POST'],\n",
    "            \"maxAgeSeconds\": 3600\n",
    "        }\n",
    "    ]\n",
    "    bucket.patch()\n",
    "\n",
    "    print(f\"Set CORS policies for bucket {bucket.name} is {bucket.cors}\")\n",
    "    return bucket\n",
    "cors_configuration(\"opg-test-1\")"
   ]
  },
  {
   "cell_type": "code",
   "execution_count": 10,
   "metadata": {},
   "outputs": [],
   "source": [
    "# Define the URL where Label Studio is accessible and the API key for your user account\n",
    "LABEL_STUDIO_URL = 'http://localhost:8080'\n",
    "# API key is available at the Account & Settings > Access Tokens page in Label Studio UI\n",
    "API_KEY = '46414fdd9e8c4a843bd027f61660b9bb08114c4e'\n",
    "\n",
    "# Import the SDK and the client module\n",
    "from label_studio_sdk.client import LabelStudio\n",
    "\n",
    "# Connect to the Label Studio API and check the connection\n",
    "ls = LabelStudio(base_url=LABEL_STUDIO_URL, api_key=API_KEY)\n"
   ]
  },
  {
   "cell_type": "code",
   "execution_count": null,
   "metadata": {},
   "outputs": [],
   "source": [
    "\n",
    "task = ls.tasks.create(\n",
    "    project=3,\n",
    "    data={\n",
    "        \"image\": \"gs://opg-test-1/car.jpg\",  # Corrected GCS URL format\n",
    "    }\n",
    ")\n"
   ]
  },
  {
   "cell_type": "code",
   "execution_count": null,
   "metadata": {},
   "outputs": [],
   "source": [
    "completed_annotations = ls.projects.exports.as_json(\n",
    "    project.id,\n",
    "    filters={\"status\": \"Completed\"}\n",
    ")"
   ]
  },
  {
   "cell_type": "code",
   "execution_count": 5,
   "metadata": {},
   "outputs": [],
   "source": [
    "from label_studio_sdk import LabelStudio\n",
    "client = LabelStudio(\n",
    "    api_key=API_KEY)"
   ]
  },
  {
   "cell_type": "code",
   "execution_count": null,
   "metadata": {},
   "outputs": [],
   "source": [
    "from label_studio_sdk.label_interface import LabelInterface\n",
    "from label_studio_sdk.label_interface.create import choices\n",
    "\n",
    "# Define labeling interface\n",
    "label_config = LabelInterface.create({\n",
    "    'text': 'Text',\n",
    "    'label': choices(['Positive', 'Negative'])\n",
    "})\n",
    "\n",
    "# Create a project with the specified title and labeling configuration\n",
    "project = ls.projects.create(\n",
    "    title='Text Classification',\n",
    "    label_config=label_config\n",
    ")\n"
   ]
  },
  {
   "cell_type": "code",
   "execution_count": 8,
   "metadata": {},
   "outputs": [
    {
     "ename": "AttributeError",
     "evalue": "type object 'LabelInterface' has no attribute 'rectangle_labels'",
     "output_type": "error",
     "traceback": [
      "\u001b[31m---------------------------------------------------------------------------\u001b[39m",
      "\u001b[31mAttributeError\u001b[39m                            Traceback (most recent call last)",
      "\u001b[36mCell\u001b[39m\u001b[36m \u001b[39m\u001b[32mIn[8]\u001b[39m\u001b[32m, line 6\u001b[39m\n\u001b[32m      1\u001b[39m \u001b[38;5;28;01mfrom\u001b[39;00m\u001b[38;5;250m \u001b[39m\u001b[34;01mlabel_studio_sdk\u001b[39;00m\u001b[34;01m.\u001b[39;00m\u001b[34;01mlabel_interface\u001b[39;00m\u001b[38;5;250m \u001b[39m\u001b[38;5;28;01mimport\u001b[39;00m LabelInterface\n\u001b[32m      2\u001b[39m project = ls.projects.create(\n\u001b[32m      3\u001b[39m     title=\u001b[33m\"\u001b[39m\u001b[33mObject Detection Project\u001b[39m\u001b[33m\"\u001b[39m,\n\u001b[32m      4\u001b[39m     label_config=LabelInterface.create({\n\u001b[32m      5\u001b[39m         \u001b[33m\"\u001b[39m\u001b[33mimage\u001b[39m\u001b[33m\"\u001b[39m: \u001b[33m\"\u001b[39m\u001b[33mImage\u001b[39m\u001b[33m\"\u001b[39m,\n\u001b[32m----> \u001b[39m\u001b[32m6\u001b[39m         \u001b[33m\"\u001b[39m\u001b[33mbbox\u001b[39m\u001b[33m\"\u001b[39m: \u001b[43mLabelInterface\u001b[49m\u001b[43m.\u001b[49m\u001b[43mrectangle_labels\u001b[49m(\n\u001b[32m      7\u001b[39m             name=\u001b[33m\"\u001b[39m\u001b[33mbbox\u001b[39m\u001b[33m\"\u001b[39m,\n\u001b[32m      8\u001b[39m             toName=\u001b[33m\"\u001b[39m\u001b[33mimage\u001b[39m\u001b[33m\"\u001b[39m,\n\u001b[32m      9\u001b[39m             labels=[\u001b[33m\"\u001b[39m\u001b[33mCar\u001b[39m\u001b[33m\"\u001b[39m, \u001b[33m\"\u001b[39m\u001b[33mPedestrian\u001b[39m\u001b[33m\"\u001b[39m, \u001b[33m\"\u001b[39m\u001b[33mTraffic Light\u001b[39m\u001b[33m\"\u001b[39m]\n\u001b[32m     10\u001b[39m         )\n\u001b[32m     11\u001b[39m     })\n\u001b[32m     12\u001b[39m )\n",
      "\u001b[31mAttributeError\u001b[39m: type object 'LabelInterface' has no attribute 'rectangle_labels'"
     ]
    }
   ],
   "source": [
    "from label_studio_sdk.label_interface import LabelInterface\n",
    "project = ls.projects.create(\n",
    "    title=\"Object Detection Project\",\n",
    "    label_config=LabelInterface.create({\n",
    "        \"image\": \"Image\",\n",
    "        \"bbox\": LabelInterface.rectangle_labels(\n",
    "            name=\"bbox\",\n",
    "            toName=\"image\",\n",
    "            labels=[\"Car\", \"Pedestrian\", \"Traffic Light\"]\n",
    "        )\n",
    "    })\n",
    ")\n"
   ]
  },
  {
   "cell_type": "code",
   "execution_count": 6,
   "metadata": {},
   "outputs": [
    {
     "data": {
      "text/plain": [
       "BaseTask(id=1, data={'image': 'car.jpg', 'text': 'Hello, world!'}, meta={}, created_at=datetime.datetime(2025, 3, 31, 7, 31, 26, 839631, tzinfo=TzInfo(UTC)), updated_at=datetime.datetime(2025, 3, 31, 7, 31, 26, 839681, tzinfo=TzInfo(UTC)), is_labeled=False, overlap=1, inner_id=2, total_annotations=0, cancelled_annotations=0, total_predictions=0, comment_count=0, unresolved_comment_count=0, last_comment_updated_at=None, project=1, updated_by=None, file_upload=None, comment_authors=[])"
      ]
     },
     "execution_count": 6,
     "metadata": {},
     "output_type": "execute_result"
    }
   ],
   "source": [
    "client.tasks.create(\n",
    "    data={\"image\": \"car.jpg\", \"text\": \"Hello, world!\"},\n",
    "    project=1,\n",
    ")"
   ]
  },
  {
   "cell_type": "code",
   "execution_count": 4,
   "metadata": {},
   "outputs": [
    {
     "ename": "AttributeError",
     "evalue": "'LabelStudio' object has no attribute 'upload_file'",
     "output_type": "error",
     "traceback": [
      "\u001b[31m---------------------------------------------------------------------------\u001b[39m",
      "\u001b[31mAttributeError\u001b[39m                            Traceback (most recent call last)",
      "\u001b[36mCell\u001b[39m\u001b[36m \u001b[39m\u001b[32mIn[4]\u001b[39m\u001b[32m, line 21\u001b[39m\n\u001b[32m     12\u001b[39m     \u001b[38;5;28;01mreturn\u001b[39;00m ls.tasks.create(\n\u001b[32m     13\u001b[39m         project=project_id,\n\u001b[32m     14\u001b[39m         data={\n\u001b[32m   (...)\u001b[39m\u001b[32m     17\u001b[39m         }\n\u001b[32m     18\u001b[39m     )\n\u001b[32m     20\u001b[39m \u001b[38;5;66;03m# Usage example\u001b[39;00m\n\u001b[32m---> \u001b[39m\u001b[32m21\u001b[39m task = \u001b[43mupload_image\u001b[49m\u001b[43m(\u001b[49m\u001b[32;43m1\u001b[39;49m\u001b[43m,\u001b[49m\u001b[43m \u001b[49m\u001b[33;43m\"\u001b[39;49m\u001b[33;43mcar.jpg\u001b[39;49m\u001b[33;43m\"\u001b[39;49m\u001b[43m)\u001b[49m\n",
      "\u001b[36mCell\u001b[39m\u001b[36m \u001b[39m\u001b[32mIn[4]\u001b[39m\u001b[32m, line 5\u001b[39m, in \u001b[36mupload_image\u001b[39m\u001b[34m(project_id, image_path)\u001b[39m\n\u001b[32m      2\u001b[39m \u001b[38;5;28;01mdef\u001b[39;00m\u001b[38;5;250m \u001b[39m\u001b[34mupload_image\u001b[39m(project_id, image_path):\n\u001b[32m      3\u001b[39m     \u001b[38;5;66;03m# Upload file first\u001b[39;00m\n\u001b[32m      4\u001b[39m     filename = image_path.split(\u001b[33m\"\u001b[39m\u001b[33m/\u001b[39m\u001b[33m\"\u001b[39m)[-\u001b[32m1\u001b[39m]\n\u001b[32m----> \u001b[39m\u001b[32m5\u001b[39m     \u001b[43mls\u001b[49m\u001b[43m.\u001b[49m\u001b[43mupload_file\u001b[49m(\n\u001b[32m      6\u001b[39m         project=project_id,\n\u001b[32m      7\u001b[39m         file=image_path,\n\u001b[32m      8\u001b[39m         filename=filename\n\u001b[32m      9\u001b[39m     )\n\u001b[32m     11\u001b[39m     \u001b[38;5;66;03m# Create task with uploaded image reference\u001b[39;00m\n\u001b[32m     12\u001b[39m     \u001b[38;5;28;01mreturn\u001b[39;00m ls.tasks.create(\n\u001b[32m     13\u001b[39m         project=project_id,\n\u001b[32m     14\u001b[39m         data={\n\u001b[32m   (...)\u001b[39m\u001b[32m     17\u001b[39m         }\n\u001b[32m     18\u001b[39m     )\n",
      "\u001b[31mAttributeError\u001b[39m: 'LabelStudio' object has no attribute 'upload_file'"
     ]
    }
   ],
   "source": [
    "# Upload image and create task\n",
    "def upload_image(project_id, image_path):\n",
    "    # Upload file first\n",
    "    filename = image_path.split(\"/\")[-1]\n",
    "    ls.upload_file(\n",
    "        project=project_id,\n",
    "        file=image_path,\n",
    "        filename=filename\n",
    "    )\n",
    "    \n",
    "    # Create task with uploaded image reference\n",
    "    return ls.tasks.create(\n",
    "        project=project_id,\n",
    "        data={\n",
    "            \"image\": f\"file://{filename}\",  # Reference uploaded file\n",
    "            \"meta\": {\"source\": \"local_upload\"}  # Optional metadata\n",
    "        }\n",
    "    )\n",
    "\n",
    "# Usage example\n",
    "task = upload_image(1, \"car.jpg\")"
   ]
  }
 ],
 "metadata": {
  "kernelspec": {
   "display_name": "myenvIot",
   "language": "python",
   "name": "python3"
  },
  "language_info": {
   "codemirror_mode": {
    "name": "ipython",
    "version": 3
   },
   "file_extension": ".py",
   "mimetype": "text/x-python",
   "name": "python",
   "nbconvert_exporter": "python",
   "pygments_lexer": "ipython3",
   "version": "3.11.5"
  }
 },
 "nbformat": 4,
 "nbformat_minor": 2
}
