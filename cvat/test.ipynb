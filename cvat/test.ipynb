{
 "cells": [
  {
   "cell_type": "code",
   "execution_count": 5,
   "metadata": {},
   "outputs": [],
   "source": [
    "from cvat_sdk import make_client\n",
    "\n",
    "# with make_client(host=\"https://cvat.ai\", credentials=(\"siluni\", \"Butti123!\")) as client:\n",
    "#     # Use client for tasks, jobs, etc.\n",
    "#     pass\n",
    "\n",
    "\n",
    "with make_client(host=\"https://app.cvat.ai\", credentials=(\"siluni\", \"Butti123!\")) as client:\n",
    "    # Use client for tasks, jobs, etc.\n",
    "    pass"
   ]
  },
  {
   "cell_type": "code",
   "execution_count": 9,
   "metadata": {},
   "outputs": [
    {
     "name": "stdout",
     "output_type": "stream",
     "text": [
      "Task created with ID: 1288493\n"
     ]
    }
   ],
   "source": [
    "image_dir = \"/Users/silunikeerthiratne/Documents/IoT/CVAT\"\n",
    "image_files = [os.path.join(image_dir, f) for f in os.listdir(image_dir) if f.endswith(\".jpg\")]\n",
    "\n",
    "with make_client(host=\"https://app.cvat.ai\", credentials=(\"siluni\", \"Butti123!\")) as client:\n",
    "    # Prepare the task data as a dictionary\n",
    "    task_data = {\n",
    "        \"name\": \"Vehicle Detection\",\n",
    "        \"labels\": [{\"name\": \"car\"}, {\"name\": \"pedestrian\"}],\n",
    "        \"files\": image_files,  # List of image file paths\n",
    "        \"jobs\": 1\n",
    "    }\n",
    "\n",
    "    # Create the task\n",
    "    task = client.tasks.create(task_data)\n",
    "    print(f\"Task created with ID: {task.id}\")"
   ]
  },
  {
   "cell_type": "code",
   "execution_count": null,
   "metadata": {},
   "outputs": [
    {
     "ename": "",
     "evalue": "",
     "output_type": "error",
     "traceback": [
      "\u001b[1;31mnotebook controller is DISPOSED. \n",
      "\u001b[1;31mView Jupyter <a href='command:jupyter.viewOutput'>log</a> for further details."
     ]
    }
   ],
   "source": [
    "from cvat_sdk import make_client\n",
    "import os\n",
    "\n",
    "# Connect to CVAT server\n",
    "with make_client(host=\"https://app.cvat.ai\", credentials=(\"siluni\", \"Butti123!\")) as client:\n",
    "    # Create task with 1 job\n",
    "    task = client.tasks.create(\n",
    "        name=\"Vehicle Detection\",\n",
    "        labels=[{\"name\": \"car\"}, {\"name\": \"pedestrian\"}],\n",
    "        files=[\"/Users/silunikeerthiratne/Documents/IoT/CVAT/*.jpg\"],\n",
    "        jobs=1\n",
    "    )\n",
    "\n",
    "    # Get job ID\n",
    "    jobs = list(client.jobs.list(task_id=task.id))\n",
    "    if jobs:\n",
    "        job_id = jobs[0].id\n",
    "        assignee_username = \"siluninimethra@gmail.com\"  # Replace with actual CVAT username\n",
    "\n",
    "        # Get user id for the assignee\n",
    "        users = list(client.users.list(search=assignee_username))\n",
    "\n",
    "        if users:\n",
    "            assignee_id = users[0].id\n",
    "\n",
    "            # Assign job to user\n",
    "            client.jobs.update(task_id=task.id, job_id=job_id, assignee_id=assignee_id, stage=\"annotation\")\n",
    "            print(f\"Job assigned to user with ID: {assignee_id}\")\n",
    "\n",
    "        else:\n",
    "            print(f\"User with email '{assignee_username}' not found in CVAT.\")\n",
    "    else:\n",
    "        print(\"No jobs found for the task.\")\n",
    "\n",
    "    # Export annotations\n",
    "    response = client.tasks.export(task.id, format=\"YOLO\", target_format=\"TXT\")\n",
    "    if response:\n",
    "        with open(\"annotations.zip\", \"wb\") as f:\n",
    "            f.write(response.content)\n",
    "        print(\"Annotations exported to annotations.zip\")\n",
    "    else:\n",
    "        print(\"Failed to export annotations.\")\n",
    "\n"
   ]
  },
  {
   "cell_type": "code",
   "execution_count": null,
   "metadata": {},
   "outputs": [],
   "source": [
    "# Create task with 2 jobs\n",
    "task = client.create_task(\n",
    "    name=\"Vehicle Detection\",\n",
    "    labels=[{\"name\": \"car\"}, {\"name\": \"pedestrian\"}],\n",
    "    files=[\"/path/to/images/*.jpg\"],\n",
    "    jobs=1\n",
    ")\n",
    "\n",
    "# Assign jobs to users\n",
    "client.update_job(task.id, 1, assignee=\"siluninimethra@gmail.com\", stage=\"annotation\")\n",
    "client.update_job(task.id, 2, assignee=\"user2@example.com\", stage=\"annotation\")\n",
    "\n",
    "# Export annotations\n",
    "response = client.export_task(task.id, format=\"YOLO\", target_format=\"TXT\")\n",
    "with open(\"annotations.zip\", \"wb\") as f:\n",
    "    f.write(response.content)\n"
   ]
  }
 ],
 "metadata": {
  "kernelspec": {
   "display_name": "myenvIot",
   "language": "python",
   "name": "python3"
  },
  "language_info": {
   "codemirror_mode": {
    "name": "ipython",
    "version": 3
   },
   "file_extension": ".py",
   "mimetype": "text/x-python",
   "name": "python",
   "nbconvert_exporter": "python",
   "pygments_lexer": "ipython3",
   "version": "3.11.5"
  }
 },
 "nbformat": 4,
 "nbformat_minor": 2
}
