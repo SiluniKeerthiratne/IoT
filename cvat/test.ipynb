{
 "cells": [
  {
   "cell_type": "code",
   "execution_count": 5,
   "metadata": {},
   "outputs": [],
   "source": [
    "from cvat_sdk import make_client\n",
    "\n",
    "# with make_client(host=\"https://cvat.ai\", credentials=(\"siluni\", \"Butti123!\")) as client:\n",
    "#     # Use client for tasks, jobs, etc.\n",
    "#     pass\n",
    "\n",
    "\n",
    "with make_client(host=\"https://app.cvat.ai\", credentials=(\"siluni\", \"Butti123!\")) as client:\n",
    "    # Use client for tasks, jobs, etc.\n",
    "    pass"
   ]
  },
  {
   "cell_type": "code",
   "execution_count": 9,
   "metadata": {},
   "outputs": [
    {
     "name": "stdout",
     "output_type": "stream",
     "text": [
      "Task created with ID: 1288493\n"
     ]
    }
   ],
   "source": [
    "image_dir = \"/Users/silunikeerthiratne/Documents/IoT/CVAT\"\n",
    "image_files = [os.path.join(image_dir, f) for f in os.listdir(image_dir) if f.endswith(\".jpg\")]\n",
    "\n",
    "with make_client(host=\"https://app.cvat.ai\", credentials=(\"siluni\", \"Butti123!\")) as client:\n",
    "    # Prepare the task data as a dictionary\n",
    "    task_data = {\n",
    "        \"name\": \"Vehicle Detection\",\n",
    "        \"labels\": [{\"name\": \"car\"}, {\"name\": \"pedestrian\"}],\n",
    "        \"files\": image_files,  # List of image file paths\n",
    "        \"jobs\": 1\n",
    "    }\n",
    "\n",
    "    # Create the task\n",
    "    task = client.tasks.create(task_data)\n",
    "    print(f\"Task created with ID: {task.id}\")"
   ]
  },
  {
   "cell_type": "code",
   "execution_count": 14,
   "metadata": {},
   "outputs": [
    {
     "name": "stdout",
     "output_type": "stream",
     "text": [
      "No jobs found for the task.\n"
     ]
    }
   ],
   "source": [
    "from cvat_sdk import make_client\n",
    "import os\n",
    "\n",
    "# Connect to CVAT server\n",
    "with make_client(host=\"https://app.cvat.ai\", credentials=(\"siluni\", \"Butti123!\")) as client:\n",
    "    all_jobs = client.jobs.list()\n",
    "    jobs = [job for job in all_jobs if job.task_id == task.id]\n",
    "\n",
    "    if jobs:\n",
    "        job_id = jobs[0].id\n",
    "        assignee_username = \"siluninimethra@gmail.com\"  # Replace with actual CVAT username\n",
    "\n",
    "        # Get user id for the assignee\n",
    "        users = list(client.users.list(search=assignee_username))\n",
    "\n",
    "        if users:\n",
    "            assignee_id = users[0].id\n",
    "\n",
    "            # Assign job to user\n",
    "            client.jobs.update(\n",
    "                task_id=task.id,\n",
    "                job_id=job_id,\n",
    "                assignee_id=assignee_id,\n",
    "                stage=\"annotation\"\n",
    "            )\n",
    "            print(f\"Job {job_id} assigned to user {assignee_id}\")\n",
    "        else:\n",
    "            print(f\"User with email '{assignee_username}' not found in CVAT.\")\n",
    "    else:\n",
    "        print(\"No jobs found for the task.\")\n"
   ]
  },
  {
   "cell_type": "code",
   "execution_count": 18,
   "metadata": {},
   "outputs": [
    {
     "name": "stdout",
     "output_type": "stream",
     "text": [
      "Task created with ID: 1288534\n",
      "No jobs found for the task.\n"
     ]
    },
    {
     "ename": "TypeError",
     "evalue": "cannot unpack non-iterable object object",
     "output_type": "error",
     "traceback": [
      "\u001b[31m---------------------------------------------------------------------------\u001b[39m",
      "\u001b[31mTypeError\u001b[39m                                 Traceback (most recent call last)",
      "\u001b[36mCell\u001b[39m\u001b[36m \u001b[39m\u001b[32mIn[18]\u001b[39m\u001b[32m, line 48\u001b[39m\n\u001b[32m     45\u001b[39m     \u001b[38;5;28mprint\u001b[39m(\u001b[33m\"\u001b[39m\u001b[33mNo jobs found for the task.\u001b[39m\u001b[33m\"\u001b[39m)\n\u001b[32m     47\u001b[39m \u001b[38;5;66;03m# Export annotations\u001b[39;00m\n\u001b[32m---> \u001b[39m\u001b[32m48\u001b[39m response = \u001b[43mclient\u001b[49m\u001b[43m.\u001b[49m\u001b[43mapi_client\u001b[49m\u001b[43m.\u001b[49m\u001b[43mget\u001b[49m(\n\u001b[32m     49\u001b[39m     \u001b[33mf\u001b[39m\u001b[33m\"\u001b[39m\u001b[33m/api/v1/tasks/\u001b[39m\u001b[38;5;132;01m{\u001b[39;00mtask.id\u001b[38;5;132;01m}\u001b[39;00m\u001b[33m?action=export\u001b[39m\u001b[33m\"\u001b[39m,\n\u001b[32m     50\u001b[39m     params={\u001b[33m\"\u001b[39m\u001b[33mformat\u001b[39m\u001b[33m\"\u001b[39m: \u001b[33m\"\u001b[39m\u001b[33mYOLO\u001b[39m\u001b[33m\"\u001b[39m, \u001b[33m\"\u001b[39m\u001b[33mtarget_format\u001b[39m\u001b[33m\"\u001b[39m: \u001b[33m\"\u001b[39m\u001b[33mTXT\u001b[39m\u001b[33m\"\u001b[39m}\n\u001b[32m     51\u001b[39m )\n\u001b[32m     53\u001b[39m \u001b[38;5;28;01mif\u001b[39;00m response.status_code == \u001b[32m200\u001b[39m:\n\u001b[32m     54\u001b[39m     \u001b[38;5;28;01mwith\u001b[39;00m \u001b[38;5;28mopen\u001b[39m(\u001b[33m\"\u001b[39m\u001b[33mannotations.zip\u001b[39m\u001b[33m\"\u001b[39m, \u001b[33m\"\u001b[39m\u001b[33mwb\u001b[39m\u001b[33m\"\u001b[39m) \u001b[38;5;28;01mas\u001b[39;00m f:\n",
      "\u001b[36mFile \u001b[39m\u001b[32m~/Documents/IoT/Code/myenvIot/lib/python3.11/site-packages/cvat_sdk/api_client/api_client.py:782\u001b[39m, in \u001b[36mApiClient.__getattr__\u001b[39m\u001b[34m(self, key)\u001b[39m\n\u001b[32m    780\u001b[39m \u001b[38;5;28;01mdef\u001b[39;00m\u001b[38;5;250m \u001b[39m\u001b[34m__getattr__\u001b[39m(\u001b[38;5;28mself\u001b[39m, key):\n\u001b[32m    781\u001b[39m     notfound = \u001b[38;5;28mobject\u001b[39m()\n\u001b[32m--> \u001b[39m\u001b[32m782\u001b[39m     api_instance, api_klassname = \u001b[38;5;28mself\u001b[39m._apis.get(key, notfound)\n\u001b[32m    783\u001b[39m     \u001b[38;5;28;01mif\u001b[39;00m api_instance \u001b[38;5;129;01mis\u001b[39;00m notfound:\n\u001b[32m    784\u001b[39m         \u001b[38;5;28;01mraise\u001b[39;00m \u001b[38;5;167;01mAttributeError\u001b[39;00m(\u001b[33mf\u001b[39m\u001b[33m\"\u001b[39m\u001b[33mCan\u001b[39m\u001b[33m'\u001b[39m\u001b[33mt find the \u001b[39m\u001b[33m'\u001b[39m\u001b[38;5;132;01m{\u001b[39;00mkey\u001b[38;5;132;01m}\u001b[39;00m\u001b[33m'\u001b[39m\u001b[33m attribute\u001b[39m\u001b[33m\"\u001b[39m)\n",
      "\u001b[31mTypeError\u001b[39m: cannot unpack non-iterable object object"
     ]
    }
   ],
   "source": [
    "from cvat_sdk import make_client\n",
    "import os\n",
    "\n",
    "# Connect to CVAT server\n",
    "with make_client(host=\"https://app.cvat.ai\", credentials=(\"siluni\", \"Butti123!\")) as client:\n",
    "    # Prepare the task data as a dictionary\n",
    "    image_dir = \"/Users/silunikeerthiratne/Documents/IoT/CVAT\"\n",
    "    image_files = [os.path.join(image_dir, f) for f in os.listdir(image_dir) if f.endswith(\".jpg\")]\n",
    "    task_data = {\n",
    "        \"name\": \"Vehicle Detection\",\n",
    "        \"labels\": [{\"name\": \"car\"}, {\"name\": \"pedestrian\"}],\n",
    "        \"files\": image_files,  # List of image file paths\n",
    "        \"jobs\": 1  # Ensure jobs are created\n",
    "    }\n",
    "\n",
    "    # Create the task\n",
    "    task = client.tasks.create(task_data)\n",
    "    print(f\"Task created with ID: {task.id}\")\n",
    "\n",
    "    # Get job ID\n",
    "    all_jobs = list(client.jobs.list())\n",
    "    jobs = [job for job in all_jobs if job.task_id == task.id]\n",
    "\n",
    "    if jobs:\n",
    "        job_id = jobs[0].id\n",
    "        assignee_username = \"siluninimethra@gmail.com\"  # Replace with actual CVAT username\n",
    "\n",
    "        # Get user id for the assignee\n",
    "        users = list(client.users.list(search=assignee_username))\n",
    "\n",
    "        if users:\n",
    "            assignee_id = users[0].id\n",
    "\n",
    "            # Assign job to user\n",
    "            client.jobs.update(\n",
    "                task_id=task.id,\n",
    "                job_id=job_id,\n",
    "                assignee_id=assignee_id,\n",
    "                stage=\"annotation\"\n",
    "            )\n",
    "            print(f\"Job {job_id} assigned to user with ID: {assignee_id}\")\n",
    "        else:\n",
    "            print(f\"User with email '{assignee_username}' not found in CVAT.\")\n",
    "    else:\n",
    "        print(\"No jobs found for the task.\")\n",
    "\n",
    "    # Export annotations\n",
    "    response = client.api_client.get(\n",
    "        f\"/api/v1/tasks/{task.id}?action=export\",\n",
    "        params={\"format\": \"YOLO\", \"target_format\": \"TXT\"}\n",
    "    )\n",
    "\n",
    "    if response.status_code == 200:\n",
    "        with open(\"annotations.zip\", \"wb\") as f:\n",
    "            f.write(response.content)\n",
    "        print(\"Annotations exported to annotations.zip\")\n",
    "    else:\n",
    "        print(f\"Export failed: {response.text}\")\n"
   ]
  },
  {
   "cell_type": "code",
   "execution_count": null,
   "metadata": {},
   "outputs": [],
   "source": [
    "# Create task with 2 jobs\n",
    "task = client.create_task(\n",
    "    name=\"Vehicle Detection\",\n",
    "    labels=[{\"name\": \"car\"}, {\"name\": \"pedestrian\"}],\n",
    "    files=[\"/path/to/images/*.jpg\"],\n",
    "    jobs=1\n",
    ")\n",
    "\n",
    "# Assign jobs to users\n",
    "client.update_job(task.id, 1, assignee=\"siluninimethra@gmail.com\", stage=\"annotation\")\n",
    "client.update_job(task.id, 2, assignee=\"user2@example.com\", stage=\"annotation\")\n",
    "\n",
    "# Export annotations\n",
    "response = client.export_task(task.id, format=\"YOLO\", target_format=\"TXT\")\n",
    "with open(\"annotations.zip\", \"wb\") as f:\n",
    "    f.write(response.content)\n"
   ]
  }
 ],
 "metadata": {
  "kernelspec": {
   "display_name": "myenvIot",
   "language": "python",
   "name": "python3"
  },
  "language_info": {
   "codemirror_mode": {
    "name": "ipython",
    "version": 3
   },
   "file_extension": ".py",
   "mimetype": "text/x-python",
   "name": "python",
   "nbconvert_exporter": "python",
   "pygments_lexer": "ipython3",
   "version": "3.11.5"
  }
 },
 "nbformat": 4,
 "nbformat_minor": 2
}
